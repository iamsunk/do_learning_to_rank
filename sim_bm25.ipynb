{
 "cells": [
  {
   "cell_type": "code",
   "execution_count": 1,
   "metadata": {},
   "outputs": [],
   "source": [
    "import numpy as np\n",
    "import math"
   ]
  },
  {
   "cell_type": "code",
   "execution_count": 3,
   "metadata": {},
   "outputs": [],
   "source": [
    "c1 = [ 'this is the first text', 'this is the second text and some info', 'this is the third text'];\n",
    "c2 = [ 'this is text for the second class', 'just to test', 'repeating test test test'];\n",
    "\n",
    "class BM25:\n",
    "    def __init__(self, class1, class2):\n",
    "        self.k1 = 1.5\n",
    "        self.b = 0.75\n",
    "        self.class1 = class1\n",
    "        self.class2 = class2\n",
    "        self.corpus = class1 + class2\n",
    "\n",
    "        self.avg_dl = np.average([len(a.split()) for a in self.corpus])\n",
    "        self.features = set([item for sublist in [a.split() for a in self.corpus] for item in sublist])\n",
    "\n",
    "        self.N1 = len(self.class1)\n",
    "        self.N2 = len(self.class2)\n",
    "\n",
    "        # Build a cache of the IDF's to save time\n",
    "        self.getidfs()\n",
    "\n",
    "    def df(self, term, clas):\n",
    "        return len([a for a in clas if term in a])\n",
    "\n",
    "    def vector(self, text):\n",
    "        text = text.split()\n",
    "        vector = []\n",
    "        # enumerate the features\n",
    "        for a in self.features:\n",
    "            if a in text:\n",
    "                # calculate the frequency of appearance\n",
    "                tfi = text.count(a)\n",
    "                k = self.k1 * ((1 - self.b) + self.b * (len(text)/self.avg_dl))\n",
    "                tf = ((self.k1 + 1) * tfi) / (k + tfi)\n",
    "                # get the IDF part from a cache, to save time\n",
    "                idf = self.idf_dict[a]\n",
    "                vector.append( tf * idf )\n",
    "            else:\n",
    "                vector.append( 0 )\n",
    "\n",
    "        return vector\n",
    "\n",
    "    def getidfs(self):\n",
    "        self.idf_dict = {}\n",
    "        for a in self.features:\n",
    "            idf = \t((self.N1 - self.df(a, self.class1) + 0.5) * (self.df(a, self.class2) + 0.5)) / \\\n",
    "                    ((self.N2 - self.df(a, self.class2) + 0.5) * (self.df(a, self.class1) + 0.5))\n",
    "            self.idf_dict[a] = math.log(idf)\n",
    "\n",
    "    def vectorize(self, documents):\n",
    "        matrix = []\n",
    "        for text in documents:\n",
    "            matrix.append( self.vector( text ))\n",
    "        return matrix\n",
    "\n",
    "bm25 = BM25(c1,c2)\n",
    "training = bm25.vectorize(c1 + c2)"
   ]
  },
  {
   "cell_type": "code",
   "execution_count": 7,
   "metadata": {},
   "outputs": [],
   "source": [
    "bm25.getidfs()"
   ]
  },
  {
   "cell_type": "code",
   "execution_count": 9,
   "metadata": {},
   "outputs": [
    {
     "name": "stdout",
     "output_type": "stream",
     "text": [
      "and -1.43508452529\n",
      "info -1.43508452529\n",
      "just 1.43508452529\n",
      "for 1.43508452529\n",
      "this -2.45673577282\n",
      "third -1.43508452529\n",
      "is -2.45673577282\n",
      "some -1.43508452529\n",
      "class 1.43508452529\n",
      "to 1.43508452529\n",
      "second 0.0\n",
      "text -2.45673577282\n",
      "test 2.45673577282\n",
      "repeating 1.43508452529\n",
      "the -2.45673577282\n",
      "first -1.43508452529\n"
     ]
    }
   ],
   "source": [
    "for i in bm25.idf_dict.keys():\n",
    "    print i, bm25.idf_dict[i]"
   ]
  },
  {
   "cell_type": "code",
   "execution_count": null,
   "metadata": {},
   "outputs": [],
   "source": [
    "class Document:\n",
    "    def __init__(self):\n",
    "        self.docId = \"\"        \n",
    "        self.terms = []\n",
    "        \n",
    "class DocTerm():\n",
    "    def __init__(self,term, docId):\n",
    "        self.docId=\n",
    "        \n",
    "class bm25:\n",
    "    def __init__(self,doc):\n",
    "        self.k1 = 1.5\n",
    "        self.b = 0.75\n",
    "        self.avgDl = 0\n",
    "        self.doc = []\n",
    "        self.allTerms = []\n",
    "    def calc():        \n",
    "        \n",
    "    def getDf():\n",
    "        \n",
    "    def getTf():\n",
    "        \n",
    "    def calIdf():\n",
    "    \n",
    "    def addDoc(self,doc):\n",
    "        self.doc.append(doc)\n",
    "        \n",
    "        \n",
    "        "
   ]
  },
  {
   "cell_type": "code",
   "execution_count": null,
   "metadata": {},
   "outputs": [],
   "source": []
  }
 ],
 "metadata": {
  "kernelspec": {
   "display_name": "Python 2",
   "language": "python",
   "name": "python2"
  },
  "language_info": {
   "codemirror_mode": {
    "name": "ipython",
    "version": 2
   },
   "file_extension": ".py",
   "mimetype": "text/x-python",
   "name": "python",
   "nbconvert_exporter": "python",
   "pygments_lexer": "ipython2",
   "version": "2.7.16"
  },
  "toc": {
   "base_numbering": 1,
   "nav_menu": {},
   "number_sections": true,
   "sideBar": true,
   "skip_h1_title": false,
   "title_cell": "Table of Contents",
   "title_sidebar": "Contents",
   "toc_cell": false,
   "toc_position": {
    "height": "calc(100% - 180px)",
    "left": "10px",
    "top": "150px",
    "width": "384px"
   },
   "toc_section_display": true,
   "toc_window_display": true
  },
  "varInspector": {
   "cols": {
    "lenName": 16,
    "lenType": 16,
    "lenVar": 40
   },
   "kernels_config": {
    "python": {
     "delete_cmd_postfix": "",
     "delete_cmd_prefix": "del ",
     "library": "var_list.py",
     "varRefreshCmd": "print(var_dic_list())"
    },
    "r": {
     "delete_cmd_postfix": ") ",
     "delete_cmd_prefix": "rm(",
     "library": "var_list.r",
     "varRefreshCmd": "cat(var_dic_list()) "
    }
   },
   "types_to_exclude": [
    "module",
    "function",
    "builtin_function_or_method",
    "instance",
    "_Feature"
   ],
   "window_display": true
  }
 },
 "nbformat": 4,
 "nbformat_minor": 2
}
