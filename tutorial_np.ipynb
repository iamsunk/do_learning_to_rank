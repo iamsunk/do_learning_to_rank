{
 "cells": [
  {
   "cell_type": "code",
   "execution_count": 33,
   "metadata": {},
   "outputs": [],
   "source": [
    "import numpy as np\n",
    "import matplotlib\n",
    "import matplotlib.pyplot as plt\n",
    "import numpy as np"
   ]
  },
  {
   "cell_type": "code",
   "execution_count": 9,
   "metadata": {},
   "outputs": [],
   "source": [
    "import tensorflow as tf"
   ]
  },
  {
   "cell_type": "code",
   "execution_count": 25,
   "metadata": {},
   "outputs": [],
   "source": [
    "x = tf.placeholder(tf.float32, name=\"X\")\n",
    "y = tf.placeholder(tf.float32, name=\"Y\")\n"
   ]
  },
  {
   "cell_type": "code",
   "execution_count": 21,
   "metadata": {},
   "outputs": [],
   "source": [
    "x_data = [1, 2, 3]\n",
    "y_data = [1, 2, 3]"
   ]
  },
  {
   "cell_type": "code",
   "execution_count": 26,
   "metadata": {},
   "outputs": [],
   "source": [
    "W = tf.Variable(tf.random_uniform([1],-1.0,1.0))\n",
    "b = tf.Variable(tf.random_uniform([1],-1.0,1.0))"
   ]
  },
  {
   "cell_type": "code",
   "execution_count": 27,
   "metadata": {},
   "outputs": [],
   "source": [
    "objF = W * x + b\n",
    "cost = tf.reduce_mean(tf.square(objF-y))\n",
    "optmizer = tf.train.GradientDescentOptimizer(learning_rate=0.1)\n",
    "train_op = optmizer.minimize(cost)\n"
   ]
  },
  {
   "cell_type": "code",
   "execution_count": 31,
   "metadata": {},
   "outputs": [
    {
     "name": "stdout",
     "output_type": "stream",
     "text": [
      "(0, 11.413899)\n",
      "(1, 0.43606222)\n",
      "(2, 0.29069304)\n",
      "(3, 0.27539578)\n",
      "(4, 0.26229656)\n",
      "(5, 0.24983703)\n",
      "(6, 0.23796958)\n",
      "(7, 0.2266659)\n",
      "(8, 0.21589911)\n",
      "(9, 0.20564376)\n",
      "(10, 0.19587548)\n",
      "(11, 0.18657129)\n",
      "(12, 0.17770894)\n",
      "(13, 0.16926767)\n",
      "(14, 0.16122733)\n",
      "(15, 0.153569)\n",
      "(16, 0.14627433)\n",
      "(17, 0.13932614)\n",
      "(18, 0.13270807)\n",
      "(19, 0.12640435)\n",
      "(20, 0.12040005)\n",
      "(21, 0.11468097)\n",
      "(22, 0.10923352)\n",
      "(23, 0.10404482)\n",
      "(24, 0.099102646)\n",
      "(25, 0.094395183)\n",
      "(26, 0.089911319)\n",
      "(27, 0.085640512)\n",
      "(28, 0.08157254)\n",
      "(29, 0.077697754)\n",
      "(30, 0.074007086)\n",
      "(31, 0.070491664)\n",
      "(32, 0.067143284)\n",
      "(33, 0.063953914)\n",
      "(34, 0.060916077)\n",
      "(35, 0.05802248)\n",
      "(36, 0.055266369)\n",
      "(37, 0.052641202)\n",
      "(38, 0.05014072)\n",
      "(39, 0.04775897)\n",
      "(40, 0.045490414)\n",
      "(41, 0.043329533)\n",
      "(42, 0.041271392)\n",
      "(43, 0.039310966)\n",
      "(44, 0.037443656)\n",
      "(45, 0.03566505)\n",
      "(46, 0.033970945)\n",
      "(47, 0.03235729)\n",
      "(48, 0.030820297)\n",
      "(49, 0.029356325)\n",
      "(50, 0.02796185)\n",
      "(51, 0.026633644)\n",
      "(52, 0.025368551)\n",
      "(53, 0.024163498)\n",
      "(54, 0.023015747)\n",
      "(55, 0.021922471)\n",
      "(56, 0.020881109)\n",
      "(57, 0.019889241)\n",
      "(58, 0.018944511)\n",
      "(59, 0.018044619)\n",
      "(60, 0.017187497)\n",
      "(61, 0.016371077)\n",
      "(62, 0.015593435)\n",
      "(63, 0.014852737)\n",
      "(64, 0.014147222)\n",
      "(65, 0.013475236)\n",
      "(66, 0.012835148)\n",
      "(67, 0.012225459)\n",
      "(68, 0.011644748)\n",
      "(69, 0.011091609)\n",
      "(70, 0.010564747)\n",
      "(71, 0.010062908)\n",
      "(72, 0.009584914)\n",
      "(73, 0.0091296267)\n",
      "(74, 0.0086959526)\n",
      "(75, 0.0082829027)\n",
      "(76, 0.0078894524)\n",
      "(77, 0.0075146989)\n",
      "(78, 0.0071577504)\n",
      "(79, 0.0068177381)\n",
      "(80, 0.0064939023)\n",
      "(81, 0.0061854287)\n",
      "(82, 0.0058916248)\n",
      "(83, 0.0056117685)\n",
      "(84, 0.0053452025)\n",
      "(85, 0.0050913044)\n",
      "(86, 0.0048494642)\n",
      "(87, 0.0046191029)\n",
      "(88, 0.0043997043)\n",
      "(89, 0.004190702)\n",
      "(90, 0.0039916481)\n",
      "(91, 0.0038020348)\n",
      "(92, 0.0036214441)\n",
      "(93, 0.003449416)\n",
      "(94, 0.0032855745)\n",
      "(95, 0.0031295021)\n",
      "(96, 0.0029808434)\n",
      "(97, 0.0028392507)\n",
      "(98, 0.0027043892)\n",
      "(99, 0.0025759272)\n"
     ]
    }
   ],
   "source": [
    "sess.run(tf.global_variables_initializer())\n",
    "for step in range(100):\n",
    "    _, val = sess.run([train_op,cost], feed_dict={x:x_data,y:y_data})\n",
    "    print(step, val)"
   ]
  },
  {
   "cell_type": "code",
   "execution_count": 18,
   "metadata": {},
   "outputs": [
    {
     "name": "stdout",
     "output_type": "stream",
     "text": [
      "[[-2.32110357 -0.40965915]\n",
      " [-7.50740242 -3.68451381]]\n"
     ]
    }
   ],
   "source": [
    "sess.run(tf.global_variables_initializer())\n",
    "print(sess.run(expr,feed_dict={x:x_data}))"
   ]
  },
  {
   "cell_type": "markdown",
   "metadata": {},
   "source": [
    "## W2V"
   ]
  },
  {
   "cell_type": "code",
   "execution_count": null,
   "metadata": {},
   "outputs": [],
   "source": [
    "font_name = matplotlib.font_manager.FontProperties(\n",
    "                fname=\"/Library/Fonts/NanumGothic.otf\"  # 한글 폰트 위치를 넣어주세요\n",
    "            ).get_name()\n",
    "matplotlib.rc('font', family=font_name)"
   ]
  },
  {
   "cell_type": "code",
   "execution_count": 41,
   "metadata": {},
   "outputs": [],
   "source": [
    "import pprint\n",
    "class MyPrettyPrinter(pprint.PrettyPrinter):\n",
    "\tdef format(self, _object, context, maxlevels, level):\n",
    "\t\tif isinstance(_object, unicode):\n",
    "\t\t\treturn \"'%s'\" % _object.encode('utf8'), True, False\n",
    "\t\telif isinstance(_object, str):\n",
    "\t\t\t_object = unicode(_object,'utf8')\n",
    "\t\t\treturn \"'%s'\" % _object.encode('utf8'), True, False\n",
    "\t\treturn pprint.PrettyPrinter.format(self, _object, context, maxlevels, level)\n",
    "p = MyPrettyPrinter()"
   ]
  },
  {
   "cell_type": "code",
   "execution_count": 32,
   "metadata": {},
   "outputs": [],
   "source": [
    "sentences = [\"나 고양이 좋다\",\n",
    "             \"나 강아지 좋다\",\n",
    "             \"나 동물 좋다\",\n",
    "             \"강아지 고양이 동물\",\n",
    "             \"여자친구 고양이 강아지 좋다\",\n",
    "             \"고양이 생선 우유 좋다\",\n",
    "             \"강아지 생선 싫다 우유 좋다\",\n",
    "             \"강아지 고양이 눈 좋다\",\n",
    "             \"나 여자친구 좋다\",\n",
    "             \"여자친구 나 싫다\",\n",
    "             \"여자친구 나 영화 책 음악 좋다\",\n",
    "             \"나 게임 만화 애니 좋다\",\n",
    "             \"고양이 강아지 싫다\",\n",
    "             \"강아지 고양이 좋다\"]"
   ]
  },
  {
   "cell_type": "code",
   "execution_count": 34,
   "metadata": {},
   "outputs": [],
   "source": [
    "word_sequence = \" \".join(sentences).split()\n",
    "word_list = \" \".join(sentences).split()\n",
    "word_list = list(set(word_list))"
   ]
  },
  {
   "cell_type": "code",
   "execution_count": 36,
   "metadata": {},
   "outputs": [],
   "source": [
    "word_dict = {w: i for i, w in enumerate(word_list)}"
   ]
  },
  {
   "cell_type": "code",
   "execution_count": 42,
   "metadata": {},
   "outputs": [
    {
     "name": "stdout",
     "output_type": "stream",
     "text": [
      "{'강아지': 5,\n",
      " '게임': 2,\n",
      " '고양이': 4,\n",
      " '나': 7,\n",
      " '눈': 6,\n",
      " '동물': 8,\n",
      " '만화': 3,\n",
      " '생선': 9,\n",
      " '싫다': 0,\n",
      " '애니': 13,\n",
      " '여자친구': 14,\n",
      " '영화': 15,\n",
      " '우유': 11,\n",
      " '음악': 10,\n",
      " '좋다': 1,\n",
      " '책': 12}\n"
     ]
    }
   ],
   "source": [
    "p.pprint(word_dict)"
   ]
  },
  {
   "cell_type": "code",
   "execution_count": 38,
   "metadata": {},
   "outputs": [],
   "source": [
    "skip_gram = []\n",
    "for i in range(1, len(word_sequence)-1):\n",
    "    target = word_dict[word_sequence[i]]\n",
    "    context = [word_dict[word_sequence[i-1]], word_dict[word_sequence[i+1]]]\n",
    "    for w in context:\n",
    "        skip_gram.append([target,w])"
   ]
  },
  {
   "cell_type": "code",
   "execution_count": 43,
   "metadata": {},
   "outputs": [],
   "source": [
    "def random_batch(data,size):\n",
    "    random_inputs = []\n",
    "    rnadom_labels = []\n",
    "    random_index = np.random.choice(range(len(data)),size, replace=False)\n",
    "    for i in random_index:\n",
    "        random_inputs.append(data[i][0])\n",
    "        random_labels.append(data[i][0])\n",
    "    return random_inputs, random_labels"
   ]
  },
  {
   "cell_type": "code",
   "execution_count": 44,
   "metadata": {},
   "outputs": [],
   "source": [
    "#########\n",
    "# 옵션 설정\n",
    "######\n",
    "# 학습을 반복할 횟수\n",
    "training_epoch = 300\n",
    "# 학습률\n",
    "learning_rate = 0.1\n",
    "# 한 번에 학습할 데이터의 크기\n",
    "batch_size = 20\n",
    "# 단어 벡터를 구성할 임베딩 차원의 크기\n",
    "# 이 예제에서는 x, y 그래프로 표현하기 쉽게 2 개의 값만 출력하도록 합니다.\n",
    "embedding_size = 2\n",
    "# word2vec 모델을 학습시키기 위한 nce_loss 함수에서 사용하기 위한 샘플링 크기\n",
    "# batch_size 보다 작아야 합니다.\n",
    "num_sampled = 15\n",
    "# 총 단어 갯수\n",
    "voc_size = len(word_list)"
   ]
  },
  {
   "cell_type": "code",
   "execution_count": null,
   "metadata": {},
   "outputs": [],
   "source": [
    "inputs = tf.placeholder(tf.int32, shape=[batch_size])\n",
    "labels = tf.placeholder(tf.int32, shape=[batch_size,1])\n",
    "nce_weights = tf.Variable(tf.random_uniform([voc_size,embedding_size],-1.0, 1.0))\n",
    "nce_bias = tf.Variable(tf.zeros([voc_size]))\n",
    "loss = tf.reduce_mean(tf.nn.nce_loss(nce_weight,nce_bias,labels, se))"
   ]
  },
  {
   "cell_type": "code",
   "execution_count": null,
   "metadata": {},
   "outputs": [],
   "source": [
    "with tf.Session() as sess:\n",
    "    init = tf.global_variables_initializer()\n",
    "    sess.run(init)\n",
    "    for step in range(1, training_epoch+1):\n",
    "        batch_inputs, batch_labels = random_batch(skip_grams, batch_size)\n",
    "        _, loss_val = sess.run([train_op, loss],\n",
    "                               feed_dict={inputs: batch_inputs,\n",
    "                                          labels: batch_labels})"
   ]
  },
  {
   "cell_type": "code",
   "execution_count": 11,
   "metadata": {},
   "outputs": [],
   "source": [
    "\n",
    "import logging\n",
    "import numpy as np\n",
    "from optparse import OptionParser\n",
    "import sys\n",
    "from time import time\n",
    "import matplotlib.pyplot as plt\n",
    "\n",
    "from sklearn.datasets import fetch_20newsgroups\n",
    "from sklearn.feature_extraction.text import TfidfVectorizer\n",
    "from sklearn.feature_extraction.text import HashingVectorizer\n",
    "from sklearn.feature_selection import SelectFromModel\n",
    "from sklearn.feature_selection import SelectKBest, chi2\n",
    "from sklearn.linear_model import RidgeClassifier\n",
    "from sklearn.pipeline import Pipeline\n",
    "from sklearn.svm import LinearSVC\n",
    "from sklearn.linear_model import SGDClassifier\n",
    "from sklearn.linear_model import Perceptron\n",
    "from sklearn.linear_model import PassiveAggressiveClassifier\n",
    "from sklearn.naive_bayes import BernoulliNB, ComplementNB, MultinomialNB\n",
    "from sklearn.neighbors import KNeighborsClassifier\n",
    "from sklearn.neighbors import NearestCentroid\n",
    "from sklearn.ensemble import RandomForestClassifier\n",
    "from sklearn.utils.extmath import density\n",
    "from sklearn import metrics\n"
   ]
  },
  {
   "cell_type": "code",
   "execution_count": 15,
   "metadata": {},
   "outputs": [],
   "source": [
    "categories = [\n",
    "    'alt.atheism',\n",
    "    'talk.religion.misc',\n",
    "    'comp.graphics',\n",
    "    'sci.space',\n",
    "]\n",
    "remove = ()"
   ]
  },
  {
   "cell_type": "code",
   "execution_count": 16,
   "metadata": {},
   "outputs": [
    {
     "name": "stderr",
     "output_type": "stream",
     "text": [
      "Downloading 20news dataset. This may take a few minutes.\n",
      "Downloading dataset from https://ndownloader.figshare.com/files/5975967 (14 MB)\n"
     ]
    }
   ],
   "source": [
    "data_train = fetch_20newsgroups(subset='train', categories=categories,\n",
    "                                shuffle=True, random_state=42,\n",
    "                                remove=remove)\n",
    "\n",
    "data_test = fetch_20newsgroups(subset='test', categories=categories,\n",
    "                               shuffle=True, random_state=42,\n",
    "                               remove=remove)"
   ]
  },
  {
   "cell_type": "code",
   "execution_count": 17,
   "metadata": {},
   "outputs": [],
   "source": [
    "target_names = data_train.target_names"
   ]
  },
  {
   "cell_type": "code",
   "execution_count": 24,
   "metadata": {},
   "outputs": [
    {
     "data": {
      "text/plain": [
       "['target_names', 'data', 'target', 'DESCR', 'filenames']"
      ]
     },
     "execution_count": 24,
     "metadata": {},
     "output_type": "execute_result"
    }
   ],
   "source": [
    "data_train.keys()"
   ]
  },
  {
   "cell_type": "code",
   "execution_count": 20,
   "metadata": {},
   "outputs": [],
   "source": [
    "def size_mb(docs):\n",
    "    return sum(len(s.encode('utf-8')) for s in docs) / 1e6"
   ]
  },
  {
   "cell_type": "code",
   "execution_count": 21,
   "metadata": {},
   "outputs": [],
   "source": [
    "data_train_size_mb = size_mb(data_train.data)"
   ]
  },
  {
   "cell_type": "code",
   "execution_count": 22,
   "metadata": {},
   "outputs": [
    {
     "data": {
      "text/plain": [
       "3.979536"
      ]
     },
     "execution_count": 22,
     "metadata": {},
     "output_type": "execute_result"
    }
   ],
   "source": [
    "data_train_size_mb"
   ]
  },
  {
   "cell_type": "code",
   "execution_count": 25,
   "metadata": {},
   "outputs": [],
   "source": [
    "y_train, y_test = data_train.target, data_test.target"
   ]
  },
  {
   "cell_type": "code",
   "execution_count": 26,
   "metadata": {},
   "outputs": [],
   "source": [
    "t0 = time()"
   ]
  },
  {
   "cell_type": "code",
   "execution_count": 27,
   "metadata": {},
   "outputs": [],
   "source": [
    "vectorizer = HashingVectorizer(stop_words='english', alternate_sign=False,n_features=100)\n",
    "X_train = vectorizer.transform(data_train.data)"
   ]
  },
  {
   "cell_type": "code",
   "execution_count": 28,
   "metadata": {},
   "outputs": [
    {
     "data": {
      "text/plain": [
       "<1x100 sparse matrix of type '<type 'numpy.float64'>'\n",
       "\twith 46 stored elements in Compressed Sparse Row format>"
      ]
     },
     "execution_count": 28,
     "metadata": {},
     "output_type": "execute_result"
    }
   ],
   "source": [
    "X_train[0]"
   ]
  },
  {
   "cell_type": "code",
   "execution_count": null,
   "metadata": {},
   "outputs": [],
   "source": []
  }
 ],
 "metadata": {
  "kernelspec": {
   "display_name": "Python 2",
   "language": "python",
   "name": "python2"
  },
  "language_info": {
   "codemirror_mode": {
    "name": "ipython",
    "version": 2
   },
   "file_extension": ".py",
   "mimetype": "text/x-python",
   "name": "python",
   "nbconvert_exporter": "python",
   "pygments_lexer": "ipython2",
   "version": "2.7.16"
  }
 },
 "nbformat": 4,
 "nbformat_minor": 2
}
